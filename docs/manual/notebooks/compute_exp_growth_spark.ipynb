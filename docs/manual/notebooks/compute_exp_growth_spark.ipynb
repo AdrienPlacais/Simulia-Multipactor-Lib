{
 "cells": [
  {
   "cell_type": "markdown",
   "id": "0a25101c-0921-4492-b920-db2698b0c4fb",
   "metadata": {},
   "source": [
    "# Compute exponential growth from SPARK3D\n",
    "This script showcases how the exponential growth factor from a bunch of SPARK3D simulations can be calculated.\n",
    "The original data can be manually exported from SPARK3D, or automatically generated (command line SPARK3D)."
   ]
  },
  {
   "cell_type": "markdown",
   "id": "fe05a5cf-07bf-431f-9512-be5938d4dbb7",
   "metadata": {},
   "source": [
    "TODO when user-interface is cleaner...\n",
    "For now, just look at `examples/analyze_mp_spark.py`."
   ]
  },
  {
   "cell_type": "code",
   "execution_count": null,
   "id": "92d8869a-06f9-4459-9561-e585636d9284",
   "metadata": {},
   "outputs": [],
   "source": []
  }
 ],
 "metadata": {
  "kernelspec": {
   "display_name": "Python 3 (ipykernel)",
   "language": "python",
   "name": "python3"
  },
  "language_info": {
   "codemirror_mode": {
    "name": "ipython",
    "version": 3
   },
   "file_extension": ".py",
   "mimetype": "text/x-python",
   "name": "python",
   "nbconvert_exporter": "python",
   "pygments_lexer": "ipython3",
   "version": "3.11.6"
  }
 },
 "nbformat": 4,
 "nbformat_minor": 5
}

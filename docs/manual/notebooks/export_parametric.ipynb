{
 "cells": [
  {
   "cell_type": "markdown",
   "id": "ff6bc902-f468-4186-86b6-307f14850326",
   "metadata": {},
   "source": [
    "# Export Parametric from CST\n",
    "This script showcases how data from CST can be treated.\n",
    "In this study case, we try to determine the minimum number of seed electrons for the exponential growth factor to converge."
   ]
  },
  {
   "cell_type": "markdown",
   "id": "350ab468-ca42-4bcf-a727-76af222cd13e",
   "metadata": {},
   "source": [
    "To do when the user interface is updated... For now, just look at `examples/analyze_mp_cst.py`."
   ]
  }
 ],
 "metadata": {
  "kernelspec": {
   "display_name": "Python 3 (ipykernel)",
   "language": "python",
   "name": "python3"
  },
  "language_info": {
   "codemirror_mode": {
    "name": "ipython",
    "version": 3
   },
   "file_extension": ".py",
   "mimetype": "text/x-python",
   "name": "python",
   "nbconvert_exporter": "python",
   "pygments_lexer": "ipython3",
   "version": "3.11.6"
  }
 },
 "nbformat": 4,
 "nbformat_minor": 5
}
